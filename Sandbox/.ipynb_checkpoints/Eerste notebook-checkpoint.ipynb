{
 "cells": [
  {
   "cell_type": "markdown",
   "id": "17e38edc",
   "metadata": {},
   "source": [
    "# Dit is mijn eerste jupyter notebook\n",
    "\n",
    "Dit is een voorbeeld van een stukje markdown\n",
    "\n",
    "* Peter\n",
    "* Mariska\n",
    "* Glenn\n",
    "\n",
    "https://www.nu.nl"
   ]
  },
  {
   "cell_type": "code",
   "execution_count": 1,
   "id": "d905a0d4",
   "metadata": {},
   "outputs": [
    {
     "name": "stdout",
     "output_type": "stream",
     "text": [
      "Hello world!!!!\n"
     ]
    }
   ],
   "source": [
    "print('Hello world!!!!')"
   ]
  },
  {
   "cell_type": "code",
   "execution_count": 2,
   "id": "c9ceef80",
   "metadata": {},
   "outputs": [],
   "source": [
    "naam = 'Peter'"
   ]
  },
  {
   "cell_type": "code",
   "execution_count": 3,
   "id": "ed694a65",
   "metadata": {},
   "outputs": [
    {
     "data": {
      "text/plain": [
       "'Peter'"
      ]
     },
     "execution_count": 3,
     "metadata": {},
     "output_type": "execute_result"
    }
   ],
   "source": [
    "naam"
   ]
  },
  {
   "cell_type": "code",
   "execution_count": 4,
   "id": "6bb9d474",
   "metadata": {},
   "outputs": [
    {
     "name": "stdout",
     "output_type": "stream",
     "text": [
      "Peter\n"
     ]
    }
   ],
   "source": [
    "print(naam)"
   ]
  },
  {
   "cell_type": "code",
   "execution_count": 5,
   "id": "29803606",
   "metadata": {},
   "outputs": [
    {
     "name": "stdout",
     "output_type": "stream",
     "text": [
      "Hello, ik ben Peter\n"
     ]
    }
   ],
   "source": [
    "print('Hello, ik ben ' + naam)"
   ]
  },
  {
   "cell_type": "code",
   "execution_count": 6,
   "id": "bc01bec8",
   "metadata": {},
   "outputs": [],
   "source": [
    "naam = 'Leo'"
   ]
  },
  {
   "cell_type": "code",
   "execution_count": 7,
   "id": "c63a91cb",
   "metadata": {},
   "outputs": [
    {
     "name": "stdout",
     "output_type": "stream",
     "text": [
      "Hello, ik ben Leo\n"
     ]
    }
   ],
   "source": [
    "print('Hello, ik ben ' + naam)"
   ]
  },
  {
   "cell_type": "code",
   "execution_count": 8,
   "id": "37566309",
   "metadata": {},
   "outputs": [],
   "source": [
    "woonplaats = 'de Zilt'"
   ]
  },
  {
   "cell_type": "code",
   "execution_count": 9,
   "id": "4fdeebca",
   "metadata": {},
   "outputs": [
    {
     "name": "stdout",
     "output_type": "stream",
     "text": [
      "de Zilt\n"
     ]
    }
   ],
   "source": [
    "print(woonplaats)"
   ]
  },
  {
   "cell_type": "code",
   "execution_count": 10,
   "id": "4d8d862e",
   "metadata": {},
   "outputs": [],
   "source": [
    "aantal_dagen_per_week = 7"
   ]
  },
  {
   "cell_type": "code",
   "execution_count": 13,
   "id": "84139a76",
   "metadata": {},
   "outputs": [
    {
     "name": "stdout",
     "output_type": "stream",
     "text": [
      "Eerste notebook.ipynb\r\n"
     ]
    }
   ],
   "source": [
    "!ls"
   ]
  },
  {
   "cell_type": "code",
   "execution_count": 14,
   "id": "109d2f23",
   "metadata": {},
   "outputs": [
    {
     "name": "stdout",
     "output_type": "stream",
     "text": [
      "Nog niet oud genoeg\n"
     ]
    }
   ],
   "source": [
    "leeftijd = 20\n",
    "if leeftijd > 21:\n",
    "    print('volwassen')\n",
    "    \n",
    "else:\n",
    "    print('Nog niet oud genoeg')"
   ]
  },
  {
   "cell_type": "markdown",
   "id": "c2ce0bc4",
   "metadata": {},
   "source": [
    "## Strings"
   ]
  },
  {
   "cell_type": "code",
   "execution_count": 38,
   "id": "1b88ec01",
   "metadata": {},
   "outputs": [],
   "source": [
    "s = '123'"
   ]
  },
  {
   "cell_type": "code",
   "execution_count": 42,
   "id": "adcd0149",
   "metadata": {},
   "outputs": [
    {
     "data": {
      "text/plain": [
       "'123'"
      ]
     },
     "execution_count": 42,
     "metadata": {},
     "output_type": "execute_result"
    }
   ],
   "source": [
    "s"
   ]
  },
  {
   "cell_type": "code",
   "execution_count": 43,
   "id": "1a45f431",
   "metadata": {},
   "outputs": [
    {
     "data": {
      "text/plain": [
       "129"
      ]
     },
     "execution_count": 43,
     "metadata": {},
     "output_type": "execute_result"
    }
   ],
   "source": [
    "int(s) + 6"
   ]
  },
  {
   "cell_type": "code",
   "execution_count": 29,
   "id": "abc4f675",
   "metadata": {},
   "outputs": [
    {
     "data": {
      "text/plain": [
       "str"
      ]
     },
     "execution_count": 29,
     "metadata": {},
     "output_type": "execute_result"
    }
   ],
   "source": [
    "type(s)"
   ]
  },
  {
   "cell_type": "markdown",
   "id": "de9f0746",
   "metadata": {},
   "source": [
    "## Numbers"
   ]
  },
  {
   "cell_type": "code",
   "execution_count": 32,
   "id": "eabc01e4",
   "metadata": {},
   "outputs": [],
   "source": [
    "n = 100"
   ]
  },
  {
   "cell_type": "code",
   "execution_count": 31,
   "id": "53e8aeea",
   "metadata": {},
   "outputs": [
    {
     "data": {
      "text/plain": [
       "int"
      ]
     },
     "execution_count": 31,
     "metadata": {},
     "output_type": "execute_result"
    }
   ],
   "source": [
    "type(n)"
   ]
  },
  {
   "cell_type": "code",
   "execution_count": 44,
   "id": "f9a17211",
   "metadata": {},
   "outputs": [
    {
     "data": {
      "text/plain": [
       "'100'"
      ]
     },
     "execution_count": 44,
     "metadata": {},
     "output_type": "execute_result"
    }
   ],
   "source": [
    "str(n)"
   ]
  },
  {
   "cell_type": "code",
   "execution_count": 33,
   "id": "99080b5c",
   "metadata": {},
   "outputs": [],
   "source": [
    "r = 7.5"
   ]
  },
  {
   "cell_type": "code",
   "execution_count": 34,
   "id": "c613ba09",
   "metadata": {},
   "outputs": [
    {
     "data": {
      "text/plain": [
       "float"
      ]
     },
     "execution_count": 34,
     "metadata": {},
     "output_type": "execute_result"
    }
   ],
   "source": [
    "type(r)"
   ]
  },
  {
   "cell_type": "code",
   "execution_count": 49,
   "id": "a3262d7f",
   "metadata": {},
   "outputs": [
    {
     "data": {
      "text/plain": [
       "2.5"
      ]
     },
     "execution_count": 49,
     "metadata": {},
     "output_type": "execute_result"
    }
   ],
   "source": [
    "r / 3"
   ]
  },
  {
   "cell_type": "code",
   "execution_count": 51,
   "id": "eff95cf1",
   "metadata": {},
   "outputs": [
    {
     "data": {
      "text/plain": [
       "80"
      ]
     },
     "execution_count": 51,
     "metadata": {},
     "output_type": "execute_result"
    }
   ],
   "source": [
    "(7 + 9) * 5"
   ]
  },
  {
   "cell_type": "code",
   "execution_count": 52,
   "id": "a5142f60",
   "metadata": {},
   "outputs": [
    {
     "data": {
      "text/plain": [
       "7.6923076923076925"
      ]
     },
     "execution_count": 52,
     "metadata": {},
     "output_type": "execute_result"
    }
   ],
   "source": [
    "100 / 13"
   ]
  },
  {
   "cell_type": "code",
   "execution_count": 53,
   "id": "b4aa0b1c",
   "metadata": {},
   "outputs": [
    {
     "data": {
      "text/plain": [
       "7"
      ]
     },
     "execution_count": 53,
     "metadata": {},
     "output_type": "execute_result"
    }
   ],
   "source": [
    "100 // 13"
   ]
  },
  {
   "cell_type": "code",
   "execution_count": 54,
   "id": "c35f8b24",
   "metadata": {},
   "outputs": [
    {
     "data": {
      "text/plain": [
       "91"
      ]
     },
     "execution_count": 54,
     "metadata": {},
     "output_type": "execute_result"
    }
   ],
   "source": [
    "7 * 13"
   ]
  },
  {
   "cell_type": "code",
   "execution_count": 56,
   "id": "afd01c43",
   "metadata": {},
   "outputs": [
    {
     "data": {
      "text/plain": [
       "9"
      ]
     },
     "execution_count": 56,
     "metadata": {},
     "output_type": "execute_result"
    }
   ],
   "source": [
    "100 % 13  # MODULO"
   ]
  },
  {
   "cell_type": "code",
   "execution_count": 62,
   "id": "35cc3477",
   "metadata": {},
   "outputs": [],
   "source": [
    "jaar = 2022"
   ]
  },
  {
   "cell_type": "code",
   "execution_count": 63,
   "id": "5d2405b2",
   "metadata": {},
   "outputs": [
    {
     "data": {
      "text/plain": [
       "False"
      ]
     },
     "execution_count": 63,
     "metadata": {},
     "output_type": "execute_result"
    }
   ],
   "source": [
    "jaar % 4 == 0"
   ]
  },
  {
   "cell_type": "code",
   "execution_count": 64,
   "id": "1876678a",
   "metadata": {},
   "outputs": [],
   "source": [
    "getal = 5678"
   ]
  },
  {
   "cell_type": "code",
   "execution_count": 66,
   "id": "3c14470c",
   "metadata": {},
   "outputs": [
    {
     "data": {
      "text/plain": [
       "False"
      ]
     },
     "execution_count": 66,
     "metadata": {},
     "output_type": "execute_result"
    }
   ],
   "source": [
    "getal % 8 == 0"
   ]
  },
  {
   "cell_type": "code",
   "execution_count": 67,
   "id": "407b72a5",
   "metadata": {},
   "outputs": [
    {
     "data": {
      "text/plain": [
       "709.75"
      ]
     },
     "execution_count": 67,
     "metadata": {},
     "output_type": "execute_result"
    }
   ],
   "source": [
    "getal / 8"
   ]
  },
  {
   "cell_type": "code",
   "execution_count": 71,
   "id": "cc1845c8",
   "metadata": {},
   "outputs": [
    {
     "name": "stdout",
     "output_type": "stream",
     "text": [
      "6\n",
      "12\n",
      "18\n",
      "24\n",
      "30\n",
      "36\n",
      "42\n",
      "48\n",
      "54\n",
      "60\n",
      "66\n",
      "72\n",
      "78\n",
      "84\n",
      "90\n",
      "96\n"
     ]
    }
   ],
   "source": [
    "for getal in range(1, 100):\n",
    "    if getal % 6 == 0:\n",
    "        print(getal)"
   ]
  },
  {
   "cell_type": "code",
   "execution_count": null,
   "id": "1e6afc5a",
   "metadata": {},
   "outputs": [],
   "source": []
  }
 ],
 "metadata": {
  "kernelspec": {
   "display_name": "Python 3 (ipykernel)",
   "language": "python",
   "name": "python3"
  },
  "language_info": {
   "codemirror_mode": {
    "name": "ipython",
    "version": 3
   },
   "file_extension": ".py",
   "mimetype": "text/x-python",
   "name": "python",
   "nbconvert_exporter": "python",
   "pygments_lexer": "ipython3",
   "version": "3.9.10"
  }
 },
 "nbformat": 4,
 "nbformat_minor": 5
}
