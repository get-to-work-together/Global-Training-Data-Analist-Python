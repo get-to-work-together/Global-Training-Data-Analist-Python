{
 "cells": [
  {
   "cell_type": "code",
   "execution_count": 1,
   "id": "2aee5249",
   "metadata": {},
   "outputs": [
    {
     "data": {
      "text/plain": [
       "[1, 2, 3, 4, 5, 6, 7, 8, 9]"
      ]
     },
     "execution_count": 1,
     "metadata": {},
     "output_type": "execute_result"
    }
   ],
   "source": [
    "list(range(1, 10))"
   ]
  },
  {
   "cell_type": "code",
   "execution_count": 2,
   "id": "b30aa94b",
   "metadata": {},
   "outputs": [
    {
     "data": {
      "text/plain": [
       "[0, 1, 2, 3, 4, 5, 6, 7, 8, 9]"
      ]
     },
     "execution_count": 2,
     "metadata": {},
     "output_type": "execute_result"
    }
   ],
   "source": [
    "list(range(10))"
   ]
  },
  {
   "cell_type": "code",
   "execution_count": 3,
   "id": "fefd2fef",
   "metadata": {},
   "outputs": [],
   "source": [
    "import numpy as np"
   ]
  },
  {
   "cell_type": "code",
   "execution_count": 4,
   "id": "83bed884",
   "metadata": {},
   "outputs": [
    {
     "data": {
      "text/plain": [
       "array([1, 2, 3, 4, 5, 6, 7, 8, 9])"
      ]
     },
     "execution_count": 4,
     "metadata": {},
     "output_type": "execute_result"
    }
   ],
   "source": [
    "np.arange(1, 10)"
   ]
  },
  {
   "cell_type": "code",
   "execution_count": 6,
   "id": "6ad37bf0",
   "metadata": {},
   "outputs": [
    {
     "data": {
      "text/plain": [
       "array([ 1,  2,  3,  4,  5,  6,  7,  8,  9, 10])"
      ]
     },
     "execution_count": 6,
     "metadata": {},
     "output_type": "execute_result"
    }
   ],
   "source": [
    "np.linspace(1, 10, 10, dtype = int)"
   ]
  },
  {
   "cell_type": "markdown",
   "id": "727e5e48",
   "metadata": {},
   "source": [
    "() - order of operations, function arguments, tuple\n",
    "\n",
    "[] - list, index\n",
    "\n",
    "{} - dict, set, f-string"
   ]
  },
  {
   "cell_type": "code",
   "execution_count": 9,
   "id": "e238843b",
   "metadata": {},
   "outputs": [
    {
     "data": {
      "text/plain": [
       "[5, 6]"
      ]
     },
     "execution_count": 9,
     "metadata": {},
     "output_type": "execute_result"
    }
   ],
   "source": [
    "getallen = [2,3,5,6,7]\n",
    "\n",
    "getallen[2]\n",
    "\n",
    "getallen[2:4]"
   ]
  },
  {
   "cell_type": "code",
   "execution_count": 10,
   "id": "59754f8b",
   "metadata": {},
   "outputs": [
    {
     "data": {
      "text/plain": [
       "16"
      ]
     },
     "execution_count": 10,
     "metadata": {},
     "output_type": "execute_result"
    }
   ],
   "source": [
    "(1 + 3) * 4"
   ]
  },
  {
   "cell_type": "code",
   "execution_count": 12,
   "id": "ba3997fc",
   "metadata": {},
   "outputs": [
    {
     "name": "stdout",
     "output_type": "stream",
     "text": [
      "hallo\n",
      "\n"
     ]
    },
    {
     "data": {
      "text/plain": [
       "5"
      ]
     },
     "execution_count": 12,
     "metadata": {},
     "output_type": "execute_result"
    }
   ],
   "source": [
    "print('hallo')\n",
    "\n",
    "print()\n",
    "\n",
    "len(getallen)"
   ]
  },
  {
   "cell_type": "code",
   "execution_count": 47,
   "id": "25a5bb0b",
   "metadata": {},
   "outputs": [],
   "source": [
    "def doe_iets():\n",
    "    print('Ik doe iets')\n",
    "    getal = 42\n",
    "    naam = 'Peter'\n",
    "    \n",
    "    print('het getal is ' + str(getal) + '.')\n",
    "    print('het getal is %d.' % getal)\n",
    "    print(f'het getal is {getal}.')\n",
    "    \n",
    "    print(f'Mijn naam is {naam.upper()}')\n",
    "\n",
    "    print(f'Of een berekening {324 + 7564 / 2}')\n"
   ]
  },
  {
   "cell_type": "code",
   "execution_count": 48,
   "id": "d207717f",
   "metadata": {},
   "outputs": [
    {
     "name": "stdout",
     "output_type": "stream",
     "text": [
      "Ik doe iets\n",
      "het getal is 42.\n",
      "het getal is 42.\n",
      "het getal is 42.\n",
      "Mijn naam is PETER\n",
      "Of een berekening 4106.0\n"
     ]
    }
   ],
   "source": [
    "doe_iets()"
   ]
  },
  {
   "cell_type": "code",
   "execution_count": 18,
   "id": "2854498f",
   "metadata": {},
   "outputs": [
    {
     "data": {
      "text/plain": [
       "(2, 3, 5, 6, 7)"
      ]
     },
     "execution_count": 18,
     "metadata": {},
     "output_type": "execute_result"
    }
   ],
   "source": [
    "t = tuple(getallen)\n",
    "t"
   ]
  },
  {
   "cell_type": "code",
   "execution_count": 19,
   "id": "6b02646e",
   "metadata": {},
   "outputs": [
    {
     "data": {
      "text/plain": [
       "tuple"
      ]
     },
     "execution_count": 19,
     "metadata": {},
     "output_type": "execute_result"
    }
   ],
   "source": [
    "type(t)"
   ]
  },
  {
   "cell_type": "code",
   "execution_count": 20,
   "id": "d5a0cef4",
   "metadata": {},
   "outputs": [
    {
     "data": {
      "text/plain": [
       "5"
      ]
     },
     "execution_count": 20,
     "metadata": {},
     "output_type": "execute_result"
    }
   ],
   "source": [
    "t[2]"
   ]
  },
  {
   "cell_type": "code",
   "execution_count": 21,
   "id": "5bfc8265",
   "metadata": {},
   "outputs": [
    {
     "data": {
      "text/plain": [
       "(1, 2, 3)"
      ]
     },
     "execution_count": 21,
     "metadata": {},
     "output_type": "execute_result"
    }
   ],
   "source": [
    "(1,2,3)"
   ]
  },
  {
   "cell_type": "code",
   "execution_count": 22,
   "id": "ff99fe75",
   "metadata": {},
   "outputs": [
    {
     "data": {
      "text/plain": [
       "tuple"
      ]
     },
     "execution_count": 22,
     "metadata": {},
     "output_type": "execute_result"
    }
   ],
   "source": [
    "type(_)"
   ]
  },
  {
   "cell_type": "code",
   "execution_count": 23,
   "id": "693c7681",
   "metadata": {},
   "outputs": [
    {
     "data": {
      "text/plain": [
       "{'nl': '+31', 'b': '+32'}"
      ]
     },
     "execution_count": 23,
     "metadata": {},
     "output_type": "execute_result"
    }
   ],
   "source": [
    "d = {'nl': '+31', 'b': '+32'}\n",
    "d"
   ]
  },
  {
   "cell_type": "code",
   "execution_count": 24,
   "id": "6fff1dc5",
   "metadata": {},
   "outputs": [
    {
     "data": {
      "text/plain": [
       "dict"
      ]
     },
     "execution_count": 24,
     "metadata": {},
     "output_type": "execute_result"
    }
   ],
   "source": [
    "type(d)"
   ]
  },
  {
   "cell_type": "code",
   "execution_count": 25,
   "id": "6a6629e4",
   "metadata": {},
   "outputs": [],
   "source": [
    "getallen = [1,3,4,5,3,5,2,5,6,7]"
   ]
  },
  {
   "cell_type": "code",
   "execution_count": 28,
   "id": "94a8e7ef",
   "metadata": {},
   "outputs": [
    {
     "data": {
      "text/plain": [
       "[1, 3, 4, 5, 3, 5, 2, 5, 6, 7]"
      ]
     },
     "execution_count": 28,
     "metadata": {},
     "output_type": "execute_result"
    }
   ],
   "source": [
    "getallen"
   ]
  },
  {
   "cell_type": "code",
   "execution_count": 29,
   "id": "b6497a87",
   "metadata": {},
   "outputs": [
    {
     "data": {
      "text/plain": [
       "{1, 2, 3, 4, 5, 6, 7}"
      ]
     },
     "execution_count": 29,
     "metadata": {},
     "output_type": "execute_result"
    }
   ],
   "source": [
    "set(getallen)"
   ]
  },
  {
   "cell_type": "code",
   "execution_count": 31,
   "id": "397ebdef",
   "metadata": {},
   "outputs": [
    {
     "data": {
      "text/plain": [
       "{3, 6, 8}"
      ]
     },
     "execution_count": 31,
     "metadata": {},
     "output_type": "execute_result"
    }
   ],
   "source": [
    "s = {3,6,8}\n",
    "s"
   ]
  },
  {
   "cell_type": "code",
   "execution_count": 32,
   "id": "6ac90741",
   "metadata": {},
   "outputs": [
    {
     "data": {
      "text/plain": [
       "set"
      ]
     },
     "execution_count": 32,
     "metadata": {},
     "output_type": "execute_result"
    }
   ],
   "source": [
    "type(s)"
   ]
  },
  {
   "cell_type": "code",
   "execution_count": 49,
   "id": "c4f6eab6",
   "metadata": {},
   "outputs": [
    {
     "data": {
      "text/plain": [
       "list"
      ]
     },
     "execution_count": 49,
     "metadata": {},
     "output_type": "execute_result"
    }
   ],
   "source": [
    "type(getallen)"
   ]
  },
  {
   "cell_type": "code",
   "execution_count": 50,
   "id": "eee5ec4c",
   "metadata": {},
   "outputs": [],
   "source": [
    "getallen.append(10)"
   ]
  },
  {
   "cell_type": "code",
   "execution_count": 51,
   "id": "754114ac",
   "metadata": {},
   "outputs": [
    {
     "data": {
      "text/plain": [
       "[1, 3, 4, 5, 3, 5, 2, 5, 6, 7, 10]"
      ]
     },
     "execution_count": 51,
     "metadata": {},
     "output_type": "execute_result"
    }
   ],
   "source": [
    "getallen"
   ]
  },
  {
   "cell_type": "code",
   "execution_count": 52,
   "id": "04ed0c6f",
   "metadata": {},
   "outputs": [
    {
     "data": {
      "text/plain": [
       "'ABCDEFG'"
      ]
     },
     "execution_count": 52,
     "metadata": {},
     "output_type": "execute_result"
    }
   ],
   "source": [
    "s = 'abcdefg'\n",
    "s.upper()"
   ]
  },
  {
   "cell_type": "code",
   "execution_count": null,
   "id": "637a9544",
   "metadata": {},
   "outputs": [],
   "source": [
    "class Person:\n",
    "    \n",
    "    def __init__(self, name, residence):\n",
    "        self.name = name\n",
    "        self.residence = residence\n",
    "        \n",
    "    def tell(self):\n",
    "        return(f'I am {self.name} from {self.residence}')"
   ]
  }
 ],
 "metadata": {
  "kernelspec": {
   "display_name": "Python 3 (ipykernel)",
   "language": "python",
   "name": "python3"
  },
  "language_info": {
   "codemirror_mode": {
    "name": "ipython",
    "version": 3
   },
   "file_extension": ".py",
   "mimetype": "text/x-python",
   "name": "python",
   "nbconvert_exporter": "python",
   "pygments_lexer": "ipython3",
   "version": "3.9.10"
  }
 },
 "nbformat": 4,
 "nbformat_minor": 5
}
